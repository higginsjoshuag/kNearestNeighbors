{
 "cells": [
  {
   "cell_type": "markdown",
   "metadata": {
    "id": "DVL7_bgmIAPR"
   },
   "source": [
    "# K-Nearest Neighbor Lab\n",
    "\n",
    "\n",
    "\n"
   ]
  },
  {
   "cell_type": "code",
   "execution_count": 31,
   "metadata": {
    "id": "6ZbYjZZZ_yLV"
   },
   "outputs": [],
   "source": [
    "from sklearn.base import BaseEstimator, ClassifierMixin\n",
    "from sklearn.model_selection import train_test_split\n",
    "from sklearn.neighbors import KNeighborsClassifier, KNeighborsRegressor\n",
    "import numpy as np\n",
    "import pandas as pd\n",
    "from scipy.io import arff\n",
    "import matplotlib.pyplot as plt\n",
    "from scipy.stats import mode\n",
    "import os\n",
    "import copy"
   ]
  },
  {
   "cell_type": "code",
   "execution_count": 32,
   "metadata": {
    "id": "_a2KSZ_7AN0G"
   },
   "outputs": [],
   "source": [
    "class KNNClassifier(BaseEstimator, ClassifierMixin):\n",
    "    def __init__(self, columntype=[], weight_type='inverse_distance', nn=3, regress=False):\n",
    "        self.columntype = columntype\n",
    "        self.weight_type = weight_type\n",
    "        self.nn = nn\n",
    "        self.regress = regress\n",
    "\n",
    "    def fit(self, data, labels):\n",
    "        self.data = data\n",
    "        self.labels = labels\n",
    "\n",
    "    def braydens_dist(self, x, y):\n",
    "        if x != y:\n",
    "            return .5\n",
    "        else:\n",
    "            return 0\n",
    "    \n",
    "    def predict(self, x):\n",
    "        predictions = []\n",
    "        \n",
    "        # Only do this pretty much for the credit data.\n",
    "        if len(self.columntype) != 0:\n",
    "            for i in range(x.shape[0]):\n",
    "                distances = []\n",
    "                for j in range(self.data.shape[0]):\n",
    "                    values = []\n",
    "                    for k in range(len(self.columntype)-1):\n",
    "                        if self.columntype[k] == 1:\n",
    "                            value = self.braydens_dist(x[i,k], self.data[j,k])\n",
    "                        else:\n",
    "                            value = np.square(x[i,k] - self.data[j,k])\n",
    "                        values.append(value)\n",
    "                    distances.append(np.sum(values))\n",
    "                distances = np.array(distances)\n",
    "                knn_indeces = np.argpartition(distances, self.nn)[:self.nn]\n",
    "                knn_results = self.labels[knn_indeces]\n",
    "                knn_distances = np.array(distances)[knn_indeces]\n",
    "                knn_inverse_distances = []\n",
    "                for dist in knn_distances:\n",
    "                    if dist == 0:\n",
    "                        knn_inverse_distances.append(0)\n",
    "                    else:\n",
    "                        knn_inverse_distances.append(1/(dist**2))\n",
    "                temp = np.column_stack((knn_results, knn_inverse_distances))\n",
    "                d = {}\n",
    "                for i in range(temp.shape[0]):\n",
    "                    if temp[i][0] in d.keys():\n",
    "                        d[temp[i][0]] += float(temp[i][1])\n",
    "                    else:\n",
    "                        d[temp[i][0]] = float(temp[i][1])\n",
    "                if self.weight_type == 'no_weight':\n",
    "                    predictions.append(mode(knn_results)[0][0])\n",
    "                elif self.weight_type == 'inverse_distance':\n",
    "                    predictions.append(max(d, key=d.get))\n",
    "                else:\n",
    "                    print('You need to specify the weight')\n",
    "            return predictions\n",
    "\n",
    "        else:\n",
    "            for i in range(x.shape[0]):\n",
    "                distances = np.linalg.norm(x[i] - self.data, axis=1)\n",
    "                knn_indeces = np.argpartition(distances, self.nn)[:self.nn]\n",
    "                knn_results = self.labels[knn_indeces]\n",
    "                knn_distances = np.array(distances)[knn_indeces]\n",
    "                knn_inverse_distances = []\n",
    "                for dist in knn_distances:\n",
    "                    if dist == 0:\n",
    "                        knn_inverse_distances.append(0)\n",
    "                    else:\n",
    "                        knn_inverse_distances.append(1/(dist**2))\n",
    "                temp = np.column_stack((knn_results, knn_inverse_distances))\n",
    "                d = {}\n",
    "                for i in range(temp.shape[0]):\n",
    "                    if temp[i][0] in d.keys():\n",
    "                        d[temp[i][0]] += float(temp[i][1])\n",
    "                    else:\n",
    "                        d[temp[i][0]] = float(temp[i][1])\n",
    "                if self.weight_type == 'no_weight':\n",
    "                    predictions.append(mode(knn_results)[0][0])\n",
    "                elif self.weight_type == 'inverse_distance':\n",
    "                    predictions.append(max(d, key=d.get))\n",
    "                else:\n",
    "                    print('You need to specify the weight')\n",
    "            return predictions\n",
    "\n",
    "    def predict_regress(self, x):\n",
    "        predictions = []\n",
    "        for i in range(x.shape[0]):\n",
    "            distances = np.linalg.norm(x[i] - self.data, axis=1)\n",
    "            knn_indeces = np.argpartition(distances, self.nn)[:self.nn]\n",
    "            knn_results = self.labels[knn_indeces]\n",
    "            knn_distances = np.array(distances)[knn_indeces]\n",
    "            knn_inverse_distances = []\n",
    "            for dist in knn_distances:\n",
    "                if dist == 0:\n",
    "                    knn_inverse_distances.append(0)\n",
    "                else:\n",
    "                    knn_inverse_distances.append(1/(dist**2))\n",
    "            temp = np.column_stack((knn_results, knn_inverse_distances))\n",
    "            if self.weight_type == 'inverse_distance':\n",
    "                predictions.append(np.prod(temp, axis=1).sum() / np.sum(temp, axis=0)[1])\n",
    "            else:\n",
    "                predictions.append(np.mean(temp, axis=0)[0])\n",
    "        return predictions\n",
    "\n",
    "    def score(self, x, y):\n",
    "        if self.regress == False:\n",
    "            predictions = self.predict(x)\n",
    "            return (predictions == y).mean()\n",
    "        else:\n",
    "            predictions = self.predict_regress(x)\n",
    "            return np.mean(np.square(predictions - y))"
   ]
  },
  {
   "cell_type": "code",
   "execution_count": 33,
   "metadata": {},
   "outputs": [],
   "source": [
    "def normalize(train, test):\n",
    "    w = copy.deepcopy(train)\n",
    "    y = copy.deepcopy(test)\n",
    "    t = np.vstack((w,y))\n",
    "    for i in range(t.shape[1]):\n",
    "        t_max, t_min = max(t[:,i]), min(t[:,i])\n",
    "        for j in range(w.shape[0]):\n",
    "            w[j,i] = (w[j][i] - t_min) / (t_max - t_min)\n",
    "        for k in range(y.shape[0]):\n",
    "            y[k,i] = (y[k][i] - t_min) / (t_max - t_min)\n",
    "    return w, y"
   ]
  },
  {
   "cell_type": "code",
   "execution_count": 34,
   "metadata": {},
   "outputs": [],
   "source": [
    "# Glass Data\n",
    "glass_train = pd.DataFrame(arff.loadarff('datasets/glass_train.arff')[0])\n",
    "glass_test = pd.DataFrame(arff.loadarff('datasets/glass_test.arff')[0])\n",
    "\n",
    "glass_train['Type'] = glass_train['Type'].str.decode('utf8')\n",
    "glass_test['Type'] = glass_test['Type'].str.decode('utf8')\n",
    "\n",
    "glass_train_x = np.array(glass_train.iloc[:, 0:-1])\n",
    "glass_train_y = np.array(glass_train.iloc[:, -1])\n",
    "\n",
    "glass_test_x = np.array(glass_test.iloc[:, 0:-1])\n",
    "glass_test_y = np.array(glass_test.iloc[:, -1])"
   ]
  },
  {
   "cell_type": "code",
   "execution_count": 35,
   "metadata": {},
   "outputs": [
    {
     "name": "stdout",
     "output_type": "stream",
     "text": [
      "Glass\n",
      "Score with No Weight: 0.6829268292682927\n",
      "Score with Inverse Weighting: 0.7439024390243902\n"
     ]
    }
   ],
   "source": [
    "# Glass Results\n",
    "glass_knn_no_weight = KNNClassifier(columntype=[], weight_type='no_weight', nn=3)\n",
    "glass_knn_weight = KNNClassifier(columntype=[], weight_type='inverse_distance', nn=3)\n",
    "\n",
    "glass_knn_no_weight.fit(data=glass_train_x, labels=glass_train_y)\n",
    "glass_knn_weight.fit(data=glass_train_x, labels=glass_train_y)\n",
    "\n",
    "print('Glass')\n",
    "print('Score with No Weight:', glass_knn_no_weight.score(x=glass_test_x, y=glass_test_y))\n",
    "print('Score with Inverse Weighting:', glass_knn_weight.score(x=glass_test_x, y=glass_test_y))"
   ]
  },
  {
   "cell_type": "markdown",
   "metadata": {},
   "source": [
    "### 1.1.2 Evaluate\n",
    "\n",
    "We will evaluate your model based on its performance on the [diabetes](https://archive.ics.uci.edu/ml/datasets/Diabetes) problem.\n",
    "- Use this [training set](https://raw.githubusercontent.com/cs472ta/CS472/master/datasets/diabetes_train.arff) and this [test set](https://raw.githubusercontent.com/cs472ta/CS472/master/datasets/diabetes_test.arff)"
   ]
  },
  {
   "cell_type": "code",
   "execution_count": 36,
   "metadata": {},
   "outputs": [],
   "source": [
    "# Diabetes Data\n",
    "diabetes_train = pd.DataFrame(arff.loadarff('datasets/diabetes_train.arff')[0])\n",
    "diabetes_test = pd.DataFrame(arff.loadarff('datasets/diabetes_test.arff')[0])\n",
    "\n",
    "diabetes_train['class'] = diabetes_train['class'].str.decode('utf8')\n",
    "diabetes_test['class'] = diabetes_test['class'].str.decode('utf8')\n",
    "\n",
    "diabetes_train_x = np.array(diabetes_train.iloc[:, 0:-1])\n",
    "diabetes_train_y = np.array(diabetes_train.iloc[:, -1])\n",
    "\n",
    "diabetes_test_x = np.array(diabetes_test.iloc[:, 0:-1])\n",
    "diabetes_test_y = np.array(diabetes_test.iloc[:, -1])"
   ]
  },
  {
   "cell_type": "code",
   "execution_count": 37,
   "metadata": {},
   "outputs": [
    {
     "name": "stdout",
     "output_type": "stream",
     "text": [
      "Diabetes\n",
      "Score with No Weight: 0.8411458333333334\n",
      "Score with Inverse Weighting: 0.890625\n"
     ]
    }
   ],
   "source": [
    "# Diabetes Results\n",
    "diabetes_knn_no_weight = KNNClassifier(columntype=[], weight_type='no_weight', nn=3)\n",
    "diabetes_knn_weight = KNNClassifier(columntype=[], weight_type='inverse_distance', nn=3)\n",
    "\n",
    "diabetes_knn_no_weight.fit(data=diabetes_train_x, labels=diabetes_train_y)\n",
    "diabetes_knn_weight.fit(data=diabetes_train_x, labels=diabetes_train_y)\n",
    "\n",
    "print('Diabetes')\n",
    "print('Score with No Weight:', diabetes_knn_no_weight.score(x=diabetes_test_x, y=diabetes_test_y))\n",
    "print('Score with Inverse Weighting:', diabetes_knn_weight.score(x=diabetes_test_x, y=diabetes_test_y))"
   ]
  },
  {
   "cell_type": "code",
   "execution_count": 38,
   "metadata": {},
   "outputs": [],
   "source": [
    "# Magic Telescope Data\n",
    "mt_train = pd.DataFrame(arff.loadarff('datasets/magic_telescope_train.arff')[0])\n",
    "mt_test = pd.DataFrame(arff.loadarff('datasets/magic_telescope_test.arff')[0])\n",
    "\n",
    "mt_train['class'] = mt_train['class'].str.decode('utf8')\n",
    "mt_test['class'] = mt_test['class'].str.decode('utf8')\n",
    "\n",
    "mt_train_x = np.array(mt_train.iloc[:, 0:-1])\n",
    "mt_train_y = np.array(mt_train.iloc[:, -1])\n",
    "\n",
    "mt_test_x = np.array(mt_test.iloc[:, 0:-1])\n",
    "mt_test_y = np.array(mt_test.iloc[:, -1])\n",
    "\n",
    "mt_train_x_norm = normalize(mt_train_x, mt_test_x)[0]\n",
    "mt_test_x_norm = normalize(mt_train_x, mt_test_x)[1]"
   ]
  },
  {
   "cell_type": "markdown",
   "metadata": {},
   "source": [
    "### 2.1"
   ]
  },
  {
   "cell_type": "code",
   "execution_count": 39,
   "metadata": {
    "id": "4SSoasDQSKXb"
   },
   "outputs": [
    {
     "name": "stdout",
     "output_type": "stream",
     "text": [
      "No Normalization\n",
      "Score with No Weight: 0.8082808280828083\n",
      "Score with Inverse Weighting: 0.8046804680468047\n"
     ]
    }
   ],
   "source": [
    "# Magic Telescope Results: No Normalization\n",
    "mt_knn_no_weight = KNNClassifier(columntype=[], weight_type='no_weight', nn=3)\n",
    "mt_knn_weight = KNNClassifier(columntype=[], weight_type='inverse_distance', nn=3)\n",
    "\n",
    "mt_knn_no_weight.fit(data=mt_train_x, labels=mt_train_y)\n",
    "mt_knn_weight.fit(data=mt_train_x, labels=mt_train_y)\n",
    "\n",
    "print('No Normalization')\n",
    "print('Score with No Weight:', mt_knn_no_weight.score(x=mt_test_x, y=mt_test_y))\n",
    "print('Score with Inverse Weighting:', mt_knn_weight.score(x=mt_test_x, y=mt_test_y))"
   ]
  },
  {
   "cell_type": "markdown",
   "metadata": {},
   "source": [
    "### 2.2"
   ]
  },
  {
   "cell_type": "code",
   "execution_count": 40,
   "metadata": {},
   "outputs": [
    {
     "name": "stdout",
     "output_type": "stream",
     "text": [
      "With Normalization\n",
      "Score with No Weight: 0.8304830483048304\n",
      "Score with Inverse Weighting: 0.8295829582958296 \n",
      "\n"
     ]
    }
   ],
   "source": [
    "# # Magic Telescope Results: With Normalization\n",
    "mt_knn_no_weight = KNNClassifier(columntype=[], weight_type='no_weight', nn=3)\n",
    "mt_knn_weight = KNNClassifier(columntype=[], weight_type='inverse_distance', nn=3)\n",
    "\n",
    "mt_knn_no_weight.fit(data=mt_train_x_norm, labels=mt_train_y)\n",
    "mt_knn_weight.fit(data=mt_train_x_norm, labels=mt_train_y)\n",
    "\n",
    "print('With Normalization')\n",
    "print('Score with No Weight:', mt_knn_no_weight.score(x=mt_test_x_norm, y=mt_test_y))\n",
    "print('Score with Inverse Weighting:', mt_knn_weight.score(x=mt_test_x_norm, y=mt_test_y),'\\n')"
   ]
  },
  {
   "cell_type": "markdown",
   "metadata": {},
   "source": [
    "This might seem a little weird what I was doing, but when I normalized the train_x data just by itself, it used the max_x value within its data and the min_x value within its data to compute the normalization for each data point. This returned a normalized version of the train_x data to me. This is what I mean by \"Normalize Separately.\"\n",
    "\n",
    "But when I pass in both the train_x and the test_x data at the same time, I can use the min_x from the combined dataset to normalize over both the train_x and the test_x. This is what I mean by \"Normalize Together.\"\n",
    "\n",
    "But at the end of it all, normalization does increase score -- if marginally."
   ]
  },
  {
   "cell_type": "code",
   "execution_count": 41,
   "metadata": {},
   "outputs": [],
   "source": [
    "# Train/Predict with normalization using k=1,3,...,15\n",
    "mt_scores = []\n",
    "for k in range(1,16,2):\n",
    "    knn = KNNClassifier(weight_type='inverse_distance', nn=k)\n",
    "    knn.fit(mt_train_x_norm, mt_train_y)\n",
    "    mt_scores.append(knn.score(mt_test_x_norm, mt_test_y))"
   ]
  },
  {
   "cell_type": "code",
   "execution_count": 42,
   "metadata": {},
   "outputs": [
    {
     "data": {
      "image/png": "[encoded data removed]",
      "text/plain": [
       "<Figure size 432x288 with 1 Axes>"
      ]
     },
     "metadata": {
      "needs_background": "light"
     },
     "output_type": "display_data"
    }
   ],
   "source": [
    "# Graph classification accuracy over k\n",
    "plt.plot(mt_scores)\n",
    "plt.xlabel('Nearest Neighbors (k)')\n",
    "plt.ylabel('Classification Accuracy')\n",
    "plt.title('Magic Telescope  |  Accuracy vs \\'k\\'')\n",
    "plt.show()"
   ]
  },
  {
   "cell_type": "code",
   "execution_count": 43,
   "metadata": {
    "id": "KBGUn43ASiXW"
   },
   "outputs": [],
   "source": [
    "# Housing Data\n",
    "house_train = pd.DataFrame(arff.loadarff('datasets/housing_train.arff')[0])\n",
    "house_test = pd.DataFrame(arff.loadarff('datasets/housing_test.arff')[0])\n",
    "\n",
    "house_train['CHAS'] = house_train['CHAS'].str.decode('utf8').astype(dtype=int)\n",
    "house_test['CHAS'] = house_test['CHAS'].str.decode('utf8').astype(dtype=int)\n",
    "\n",
    "house_train_x = np.array(house_train.iloc[:, 0:-1])\n",
    "house_train_y = np.array(house_train.iloc[:, -1])\n",
    "\n",
    "house_test_x = np.array(house_test.iloc[:, 0:-1])\n",
    "house_test_y = np.array(house_test.iloc[:, -1])\n",
    "\n",
    "house_train_x_norm = normalize(house_train_x, house_test_x)[0]\n",
    "house_test_x_norm = normalize(house_train_x, house_test_x)[1]"
   ]
  },
  {
   "cell_type": "code",
   "execution_count": 44,
   "metadata": {},
   "outputs": [
    {
     "name": "stdout",
     "output_type": "stream",
     "text": [
      "Housing MSE: 16.598692810457518\n"
     ]
    }
   ],
   "source": [
    "house_knn = KNNClassifier(weight_type='no_weight', nn=3, regress=True)\n",
    "house_knn.fit(house_train_x_norm, house_train_y)\n",
    "print('Housing MSE:',house_knn.score(house_test_x_norm, house_test_y))"
   ]
  },
  {
   "cell_type": "code",
   "execution_count": 45,
   "metadata": {},
   "outputs": [],
   "source": [
    "house_mses_no_weight = []\n",
    "for k in range(1,16,2):\n",
    "    knn = KNNClassifier(weight_type='no_weight', nn=k, regress=True)\n",
    "    knn.fit(house_train_x_norm, house_train_y)\n",
    "    house_mses_no_weight.append(knn.score(house_test_x_norm, house_test_y))"
   ]
  },
  {
   "cell_type": "code",
   "execution_count": 46,
   "metadata": {},
   "outputs": [],
   "source": [
    "house_mses_weight = []\n",
    "for k in range(1,16,2):\n",
    "    knn = KNNClassifier(weight_type='inverse_distance', nn=k, regress=True)\n",
    "    knn.fit(house_train_x_norm, house_train_y)\n",
    "    house_mses_weight.append(knn.score(house_test_x_norm, house_test_y))"
   ]
  },
  {
   "cell_type": "code",
   "execution_count": 47,
   "metadata": {},
   "outputs": [
    {
     "data": {
      "image/png": "[encoded data removed]",
      "text/plain": [
       "<Figure size 432x288 with 1 Axes>"
      ]
     },
     "metadata": {
      "needs_background": "light"
     },
     "output_type": "display_data"
    }
   ],
   "source": [
    "# Graph MSE over k\n",
    "plt.plot(house_mses_weight)\n",
    "plt.plot(house_mses_no_weight)\n",
    "plt.xlabel('Nearest Neighbors (k)')\n",
    "plt.ylabel('Mean Squared Error (MSE)')\n",
    "plt.title('Housing  |  MSE vs \\'k\\'')\n",
    "plt.legend(['With Weight','Without Weight'])\n",
    "plt.show()"
   ]
  },
  {
   "cell_type": "markdown",
   "metadata": {},
   "source": [
    "## Magic Telescope Dataset"
   ]
  },
  {
   "cell_type": "code",
   "execution_count": 48,
   "metadata": {
    "id": "ZCPFUAGTS2sX"
   },
   "outputs": [
    {
     "data": {
      "text/plain": [
       "0.8295829582958296"
      ]
     },
     "execution_count": 48,
     "metadata": {},
     "output_type": "execute_result"
    }
   ],
   "source": [
    "# Train/Predict magic telescope using distance-weighted voting\n",
    "mt_knn = KNNClassifier(weight_type='inverse_distance', nn=3)\n",
    "mt_knn.fit(mt_train_x_norm, mt_train_y)\n",
    "mt_knn_weight.score(mt_test_x_norm, mt_test_y)"
   ]
  },
  {
   "cell_type": "markdown",
   "metadata": {},
   "source": [
    "## Housing Dataset"
   ]
  },
  {
   "cell_type": "code",
   "execution_count": 49,
   "metadata": {},
   "outputs": [
    {
     "data": {
      "text/plain": [
       "16.294702431167742"
      ]
     },
     "execution_count": 49,
     "metadata": {},
     "output_type": "execute_result"
    }
   ],
   "source": [
    "# Train/Predict housing using distance-weighted voting\n",
    "house_knn = KNNClassifier(weight_type='inverse_distance', nn=3, regress=True)\n",
    "house_knn.fit(house_train_x_norm, house_train_y)\n",
    "house_knn.score(house_test_x_norm, house_test_y)"
   ]
  },
  {
   "cell_type": "markdown",
   "metadata": {},
   "source": [
    "Interestingly, the inverse distance didn't improve the accuracy very crazily for the magic telescope dataset. But for the houses, you can see in the above graph that I added another line that shows how when the number of k nearest neighbors increased, the MSE continued to decrease slowly when there was inverse weight distancing, but took off when there was no weighting."
   ]
  },
  {
   "cell_type": "markdown",
   "metadata": {},
   "source": [
    "## Credit Approval\n"
   ]
  },
  {
   "cell_type": "code",
   "execution_count": 50,
   "metadata": {},
   "outputs": [],
   "source": [
    "def get_column_types(df):\n",
    "    c_types = df.dtypes.astype(str)\n",
    "    c_types = c_types.map({'float64':0, 'object':1})"
   ]
  },
  {
   "cell_type": "code",
   "execution_count": 51,
   "metadata": {},
   "outputs": [],
   "source": [
    "# Credit Data\n",
    "credit = pd.DataFrame(arff.loadarff('datasets/credit_approval.arff')[0])\n",
    "\n",
    "credit['A1'] = credit['A1'].str.decode('utf8')\n",
    "credit['A4'] = credit['A4'].str.decode('utf8')\n",
    "credit['A5'] = credit['A5'].str.decode('utf8')\n",
    "credit['A6'] = credit['A6'].str.decode('utf8')\n",
    "credit['A7'] = credit['A7'].str.decode('utf8')\n",
    "credit['A9'] = credit['A9'].str.decode('utf8')\n",
    "credit['A10'] = credit['A10'].str.decode('utf8')\n",
    "credit['A12'] = credit['A12'].str.decode('utf8')\n",
    "credit['A13'] = credit['A13'].str.decode('utf8')\n",
    "credit['class'] = credit['class'].str.decode('utf8')\n",
    "\n",
    "# 0 = 'real', 1 = 'nominal'\n",
    "col_types = np.array(credit.dtypes.astype(str).map({'float64':0, 'object':1}))\n",
    "\n",
    "# Normalize Continuous Features\n",
    "for i in range(len(col_types)):\n",
    "    if col_types[i] == 0:\n",
    "        col_min = credit.iloc[:,i].min()\n",
    "        col_max = credit.iloc[:,i].max()\n",
    "        credit.iloc[:,i] = (credit.iloc[:,i] - col_min) / (col_max - col_min)\n",
    "\n",
    "credit_x = np.array(credit.iloc[:, 0:-1])\n",
    "credit_y = np.array(credit.iloc[:, -1])\n",
    "\n",
    "credit_train_x, credit_test_x, credit_train_y, credit_test_y = train_test_split(credit_x, credit_y, test_size=.3)"
   ]
  },
  {
   "cell_type": "code",
   "execution_count": 52,
   "metadata": {},
   "outputs": [
    {
     "data": {
      "text/plain": [
       "0.821256038647343"
      ]
     },
     "execution_count": 52,
     "metadata": {},
     "output_type": "execute_result"
    }
   ],
   "source": [
    "credit_knn = KNNClassifier(columntype=col_types, weight_type='no_weight')\n",
    "credit_knn.fit(credit_train_x, credit_train_y)\n",
    "credit_knn.score(credit_test_x, credit_test_y)"
   ]
  },
  {
   "cell_type": "markdown",
   "metadata": {},
   "source": [
    "So I am using a very clever way of doing distance. I call it 'Brayden's Distance.' Simply put, I go through value by value, and if the data type is nominal, then I simply see if the value is equal to itself, if it is, then there's no differnece, so I assign the difference for that particular instance to be '0.' But if they are different, then I just say that the difference for that particular dual off is .5 which is reasonable considering that all the real data has been normalized before passing it in.\n",
    "\n",
    "Then you simply sum the actual differences squared and the .5s or 0s from the nominal and get a distance for that particular instance. All of this is in lieue of the Euclidean distance which my algorithm simply calculcates when I don't pass in different column types."
   ]
  },
  {
   "cell_type": "code",
   "execution_count": 29,
   "metadata": {
    "id": "OFQv70W2VyqJ"
   },
   "outputs": [
    {
     "name": "stdout",
     "output_type": "stream",
     "text": [
      "Magic Telescope Score: 0.8432343234323433\n"
     ]
    }
   ],
   "source": [
    "# Train/Predict magic telescope using scikit's KNN\n",
    "magic_knn = KNeighborsClassifier(n_neighbors=5, weights='uniform', algorithm='auto',leaf_size=30, p=2,\n",
    "                                metric='minkowski', metric_params=None, n_jobs=None)\n",
    "magic_knn.fit(mt_train_x_norm, mt_train_y)\n",
    "print('Magic Telescope Score:', magic_knn.score(mt_test_x_norm, mt_test_y))"
   ]
  },
  {
   "cell_type": "code",
   "execution_count": 57,
   "metadata": {},
   "outputs": [
    {
     "name": "stdout",
     "output_type": "stream",
     "text": [
      "Magic Telescope Score: 0.8492349234923492\n"
     ]
    }
   ],
   "source": [
    "# Train/Predict magic telescope using scikit's KNN\n",
    "magic_knn = KNeighborsClassifier(n_neighbors=10, weights='distance', algorithm='auto',leaf_size=30, p=2,\n",
    "                                metric='minkowski', metric_params=None, n_jobs=None)\n",
    "magic_knn.fit(mt_train_x_norm, mt_train_y)\n",
    "print('Magic Telescope Score:', magic_knn.score(mt_test_x_norm, mt_test_y))"
   ]
  },
  {
   "cell_type": "code",
   "execution_count": 55,
   "metadata": {},
   "outputs": [
    {
     "name": "stdout",
     "output_type": "stream",
     "text": [
      "Magic Telescope Score: 0.8135313531353136\n"
     ]
    }
   ],
   "source": [
    "# Train/Predict magic telescope using scikit's KNN\n",
    "magic_knn = KNeighborsClassifier(n_neighbors=2, weights='uniform', algorithm='auto',leaf_size=30, p=2,\n",
    "                                metric='minkowski', metric_params=None, n_jobs=None)\n",
    "magic_knn.fit(mt_train_x_norm, mt_train_y)\n",
    "print('Magic Telescope Score:', magic_knn.score(mt_test_x_norm, mt_test_y))"
   ]
  },
  {
   "cell_type": "code",
   "execution_count": 30,
   "metadata": {},
   "outputs": [
    {
     "name": "stdout",
     "output_type": "stream",
     "text": [
      "Housing Score: 0.7957406361552128\n"
     ]
    }
   ],
   "source": [
    "# Train/Predict housing using scikit's KNN\n",
    "house_knn = KNeighborsRegressor(n_neighbors=5, weights='uniform', algorithm='auto',leaf_size=30, p=2,\n",
    "                                metric='minkowski', metric_params=None, n_jobs=None)\n",
    "house_knn.fit(house_train_x_norm, house_train_y)\n",
    "print('Housing Score:', house_knn.score(house_test_x_norm, house_test_y))"
   ]
  },
  {
   "cell_type": "code",
   "execution_count": 58,
   "metadata": {},
   "outputs": [
    {
     "name": "stdout",
     "output_type": "stream",
     "text": [
      "Housing Score: 0.7996056686075668\n"
     ]
    }
   ],
   "source": [
    "# Train/Predict housing using scikit's KNN\n",
    "house_knn = KNeighborsRegressor(n_neighbors=3, weights='distance', algorithm='auto',leaf_size=30, p=2,\n",
    "                                metric='minkowski', metric_params=None, n_jobs=None)\n",
    "house_knn.fit(house_train_x_norm, house_train_y)\n",
    "print('Housing Score:', house_knn.score(house_test_x_norm, house_test_y))"
   ]
  },
  {
   "cell_type": "code",
   "execution_count": 59,
   "metadata": {},
   "outputs": [
    {
     "name": "stdout",
     "output_type": "stream",
     "text": [
      "Housing Score: 0.8076712021981529\n"
     ]
    }
   ],
   "source": [
    "# Train/Predict housing using scikit's KNN\n",
    "house_knn = KNeighborsRegressor(n_neighbors=10, weights='distance', algorithm='auto',leaf_size=30, p=2,\n",
    "                                metric='minkowski', metric_params=None, n_jobs=None)\n",
    "house_knn.fit(house_train_x_norm, house_train_y)\n",
    "print('Housing Score:', house_knn.score(house_test_x_norm, house_test_y))"
   ]
  },
  {
   "cell_type": "markdown",
   "metadata": {
    "id": "BqSFAXwlk3Ms"
   },
   "source": [
    "### Report your comparison\n",
    "For the Magic Telescope dataset (the knn Classifier), the results between the sklearn version and my version is strikingly close. The sklearn is getting an accuracy of 84.3% and my model got up to 83.05% when there were no weights used and the inputs were normalized. Even with some tweaking and fine-tuning, the results are strikingly close.\n",
    "\n",
    "For the housing dataset, I didn't calculate an accuracy score for the regression output; rather, I calculated the MSE so it makes it a little difficult to compare with the score given by the sklearn model, but I learned from Brayden Smith that sklearn returns the coefficient of determination rather than the MSE."
   ]
  }
 ],
 "metadata": {
  "colab": {
   "collapsed_sections": [],
   "name": "lab 1 - perceptron",
   "provenance": []
  },
  "interpreter": {
   "hash": "40d3a090f54c6569ab1632332b64b2c03c39dcf918b08424e98f38b5ae0af88f"
  },
  "kernelspec": {
   "display_name": "Python 3.8.12 64-bit ('base': conda)",
   "name": "python3"
  },
  "language_info": {
   "codemirror_mode": {
    "name": "ipython",
    "version": 3
   },
   "file_extension": ".py",
   "mimetype": "text/x-python",
   "name": "python",
   "nbconvert_exporter": "python",
   "pygments_lexer": "ipython3",
   "version": "3.8.12"
  }
 },
 "nbformat": 4,
 "nbformat_minor": 4
}
